{
  "nbformat": 4,
  "nbformat_minor": 0,
  "metadata": {
    "accelerator": "GPU",
    "colab": {
      "name": "demon.ipynb",
      "provenance": [],
      "collapsed_sections": []
    },
    "kernelspec": {
      "display_name": "Python 3",
      "name": "python3"
    },
    "language_info": {
      "name": "python"
    }
  },
  "cells": [
    {
      "cell_type": "code",
      "metadata": {
        "colab": {
          "base_uri": "https://localhost:8080/"
        },
        "id": "oPiJZTcXXaXa",
        "outputId": "8931b474-c5e5-4544-818e-84f1fff66fa1"
      },
      "source": [
        "# 환경설정\n",
        "\n",
        "!pip3 install transformers\n",
        "!pip3 install torch\n",
        "!pip3 install konlpy"
      ],
      "execution_count": 21,
      "outputs": [
        {
          "output_type": "stream",
          "name": "stdout",
          "text": [
            "Requirement already satisfied: transformers in /usr/local/lib/python3.7/dist-packages (4.12.5)\n",
            "Requirement already satisfied: tqdm>=4.27 in /usr/local/lib/python3.7/dist-packages (from transformers) (4.62.3)\n",
            "Requirement already satisfied: numpy>=1.17 in /usr/local/lib/python3.7/dist-packages (from transformers) (1.19.5)\n",
            "Requirement already satisfied: packaging>=20.0 in /usr/local/lib/python3.7/dist-packages (from transformers) (21.2)\n",
            "Requirement already satisfied: requests in /usr/local/lib/python3.7/dist-packages (from transformers) (2.23.0)\n",
            "Requirement already satisfied: pyyaml>=5.1 in /usr/local/lib/python3.7/dist-packages (from transformers) (6.0)\n",
            "Requirement already satisfied: huggingface-hub<1.0,>=0.1.0 in /usr/local/lib/python3.7/dist-packages (from transformers) (0.1.2)\n",
            "Requirement already satisfied: filelock in /usr/local/lib/python3.7/dist-packages (from transformers) (3.3.2)\n",
            "Requirement already satisfied: sacremoses in /usr/local/lib/python3.7/dist-packages (from transformers) (0.0.46)\n",
            "Requirement already satisfied: tokenizers<0.11,>=0.10.1 in /usr/local/lib/python3.7/dist-packages (from transformers) (0.10.3)\n",
            "Requirement already satisfied: importlib-metadata in /usr/local/lib/python3.7/dist-packages (from transformers) (4.8.2)\n",
            "Requirement already satisfied: regex!=2019.12.17 in /usr/local/lib/python3.7/dist-packages (from transformers) (2019.12.20)\n",
            "Requirement already satisfied: typing-extensions>=3.7.4.3 in /usr/local/lib/python3.7/dist-packages (from huggingface-hub<1.0,>=0.1.0->transformers) (3.10.0.2)\n",
            "Requirement already satisfied: pyparsing<3,>=2.0.2 in /usr/local/lib/python3.7/dist-packages (from packaging>=20.0->transformers) (2.4.7)\n",
            "Requirement already satisfied: zipp>=0.5 in /usr/local/lib/python3.7/dist-packages (from importlib-metadata->transformers) (3.6.0)\n",
            "Requirement already satisfied: chardet<4,>=3.0.2 in /usr/local/lib/python3.7/dist-packages (from requests->transformers) (3.0.4)\n",
            "Requirement already satisfied: certifi>=2017.4.17 in /usr/local/lib/python3.7/dist-packages (from requests->transformers) (2021.10.8)\n",
            "Requirement already satisfied: idna<3,>=2.5 in /usr/local/lib/python3.7/dist-packages (from requests->transformers) (2.10)\n",
            "Requirement already satisfied: urllib3!=1.25.0,!=1.25.1,<1.26,>=1.21.1 in /usr/local/lib/python3.7/dist-packages (from requests->transformers) (1.24.3)\n",
            "Requirement already satisfied: joblib in /usr/local/lib/python3.7/dist-packages (from sacremoses->transformers) (1.1.0)\n",
            "Requirement already satisfied: six in /usr/local/lib/python3.7/dist-packages (from sacremoses->transformers) (1.15.0)\n",
            "Requirement already satisfied: click in /usr/local/lib/python3.7/dist-packages (from sacremoses->transformers) (7.1.2)\n",
            "Requirement already satisfied: torch in /usr/local/lib/python3.7/dist-packages (1.10.0+cu111)\n",
            "Requirement already satisfied: typing-extensions in /usr/local/lib/python3.7/dist-packages (from torch) (3.10.0.2)\n",
            "Requirement already satisfied: konlpy in /usr/local/lib/python3.7/dist-packages (0.5.2)\n",
            "Requirement already satisfied: numpy>=1.6 in /usr/local/lib/python3.7/dist-packages (from konlpy) (1.19.5)\n",
            "Requirement already satisfied: lxml>=4.1.0 in /usr/local/lib/python3.7/dist-packages (from konlpy) (4.2.6)\n",
            "Requirement already satisfied: colorama in /usr/local/lib/python3.7/dist-packages (from konlpy) (0.4.4)\n",
            "Requirement already satisfied: beautifulsoup4==4.6.0 in /usr/local/lib/python3.7/dist-packages (from konlpy) (4.6.0)\n",
            "Requirement already satisfied: tweepy>=3.7.0 in /usr/local/lib/python3.7/dist-packages (from konlpy) (3.10.0)\n",
            "Requirement already satisfied: JPype1>=0.7.0 in /usr/local/lib/python3.7/dist-packages (from konlpy) (1.3.0)\n",
            "Requirement already satisfied: typing-extensions in /usr/local/lib/python3.7/dist-packages (from JPype1>=0.7.0->konlpy) (3.10.0.2)\n",
            "Requirement already satisfied: requests[socks]>=2.11.1 in /usr/local/lib/python3.7/dist-packages (from tweepy>=3.7.0->konlpy) (2.23.0)\n",
            "Requirement already satisfied: six>=1.10.0 in /usr/local/lib/python3.7/dist-packages (from tweepy>=3.7.0->konlpy) (1.15.0)\n",
            "Requirement already satisfied: requests-oauthlib>=0.7.0 in /usr/local/lib/python3.7/dist-packages (from tweepy>=3.7.0->konlpy) (1.3.0)\n",
            "Requirement already satisfied: oauthlib>=3.0.0 in /usr/local/lib/python3.7/dist-packages (from requests-oauthlib>=0.7.0->tweepy>=3.7.0->konlpy) (3.1.1)\n",
            "Requirement already satisfied: idna<3,>=2.5 in /usr/local/lib/python3.7/dist-packages (from requests[socks]>=2.11.1->tweepy>=3.7.0->konlpy) (2.10)\n",
            "Requirement already satisfied: certifi>=2017.4.17 in /usr/local/lib/python3.7/dist-packages (from requests[socks]>=2.11.1->tweepy>=3.7.0->konlpy) (2021.10.8)\n",
            "Requirement already satisfied: chardet<4,>=3.0.2 in /usr/local/lib/python3.7/dist-packages (from requests[socks]>=2.11.1->tweepy>=3.7.0->konlpy) (3.0.4)\n",
            "Requirement already satisfied: urllib3!=1.25.0,!=1.25.1,<1.26,>=1.21.1 in /usr/local/lib/python3.7/dist-packages (from requests[socks]>=2.11.1->tweepy>=3.7.0->konlpy) (1.24.3)\n",
            "Requirement already satisfied: PySocks!=1.5.7,>=1.5.6 in /usr/local/lib/python3.7/dist-packages (from requests[socks]>=2.11.1->tweepy>=3.7.0->konlpy) (1.7.1)\n"
          ]
        }
      ]
    },
    {
      "cell_type": "code",
      "metadata": {
        "colab": {
          "base_uri": "https://localhost:8080/"
        },
        "id": "dK6lh7qWl263",
        "outputId": "01a24a4b-374a-4d0a-eba1-0c97bb88c5c3"
      },
      "source": [
        "# 시험데이터셋 수집\n",
        "\n",
        "!wget https://raw.githubusercontent.com/aifactory-team/hanryubank/main/dataset_test.csv"
      ],
      "execution_count": 22,
      "outputs": [
        {
          "output_type": "stream",
          "name": "stdout",
          "text": [
            "--2021-11-19 06:14:34--  https://raw.githubusercontent.com/aifactory-team/hanryubank/main/dataset_test.csv\n",
            "Resolving raw.githubusercontent.com (raw.githubusercontent.com)... 185.199.108.133, 185.199.109.133, 185.199.111.133, ...\n",
            "Connecting to raw.githubusercontent.com (raw.githubusercontent.com)|185.199.108.133|:443... connected.\n",
            "HTTP request sent, awaiting response... 200 OK\n",
            "Length: 27277 (27K) [text/plain]\n",
            "Saving to: ‘dataset_test.csv.1’\n",
            "\n",
            "dataset_test.csv.1  100%[===================>]  26.64K  --.-KB/s    in 0s      \n",
            "\n",
            "2021-11-19 06:14:34 (96.6 MB/s) - ‘dataset_test.csv.1’ saved [27277/27277]\n",
            "\n"
          ]
        }
      ]
    },
    {
      "cell_type": "code",
      "metadata": {
        "id": "r75NoPYcXS0l"
      },
      "source": [
        "# 모듈 설정\n",
        "\n",
        "from transformers import ElectraTokenizer, ElectraForQuestionAnswering, pipeline\n",
        "import pandas as pd\n",
        "\n",
        "tokenizer = ElectraTokenizer.from_pretrained(\"monologg/koelectra-small-v2-distilled-korquad-384\")\n",
        "model = ElectraForQuestionAnswering.from_pretrained(\"monologg/koelectra-small-v2-distilled-korquad-384\")\n",
        "qa = pipeline(\"question-answering\", tokenizer=tokenizer, model=model)\n",
        "\n",
        "import konlpy\n",
        "okt = konlpy.tag.Okt()"
      ],
      "execution_count": 23,
      "outputs": []
    },
    {
      "cell_type": "code",
      "metadata": {
        "id": "qXftUIvIp4Bx"
      },
      "source": [
        "# 입력된 질문(query)에 해당하는 유사한 질문을 찾고, 그 유사한 질문에 해당하는 지문을 검색하는 함수\n",
        "\n",
        "def get_context_and_question(query):\n",
        "\n",
        "    # 데이터베이스 로딩\n",
        "    df = pd.read_csv('dataset_test.csv')\n",
        "\n",
        "    # 데이터베이스에서 사용자 질의와 유사한 질문 획득\n",
        "    result = df[df['Q1 (질문1)'] == query]\n",
        "\n",
        "    # 유사 질문에 해당하는 지문과 질문 획득\n",
        "    context = result['Context (지문)'].item()\n",
        "    question = result['Q1 (질문1)'].item()\n",
        "\n",
        "    return context, question"
      ],
      "execution_count": 24,
      "outputs": []
    },
    {
      "cell_type": "code",
      "metadata": {
        "id": "8MVnXpMxXoqD"
      },
      "source": [
        "# 지문과 질문을 입력하여 정답을 얻는 함수\n",
        "\n",
        "def get_answer(context, question):\n",
        "    result = qa({\"question\": question, \"context\": context})\n",
        "    score = result[\"score\"]\n",
        "    start = result[\"start\"]\n",
        "    end = result[\"end\"]\n",
        "    answer = result[\"answer\"]\n",
        "    return answer, start, end, score"
      ],
      "execution_count": 25,
      "outputs": []
    },
    {
      "cell_type": "code",
      "metadata": {
        "id": "Oah6b9WCpyhM"
      },
      "source": [
        "# 해답의 어미를 바꾸는 함수\n",
        "\n",
        "def modify_answer(before_answer):\n",
        "\n",
        "    document = before_answer\n",
        "    \n",
        "    clean_words = []\n",
        "\n",
        "    for word in okt.pos(document, stem=True):\n",
        "        if word[1] not in ['Josa', 'Eomi', 'Punctuation']:\n",
        "            clean_words.append(word[0])\n",
        "    \n",
        "    clean_words.append('이라네.')\n",
        "    after_answer = ''.join(clean_words)\n",
        "\n",
        "    return after_answer"
      ],
      "execution_count": 26,
      "outputs": []
    },
    {
      "cell_type": "code",
      "metadata": {
        "colab": {
          "base_uri": "https://localhost:8080/"
        },
        "id": "8Xa2D7wKXk2x",
        "outputId": "44a29cac-ec54-442c-9b9e-ccfd081b8b46"
      },
      "source": [
        "if __name__ == \"__main__\":\n",
        "\n",
        "    # 사용자 질문\n",
        "    query = '훈민정음을 창제한 이유'\n",
        "\n",
        "    # 질문에 해당하는 데이터베이스에 저장된 유사 질문 및 지문 획득\n",
        "    context, question = get_context_and_question(query)\n",
        "\n",
        "    # 지문과 질문을 입력해서 정답을 얻음\n",
        "    answer, start, end, score = get_answer(context, question)\n",
        "\n",
        "    # 출력\n",
        "    print(\"query: \" + query)\n",
        "    print(\"question: \" + question)\n",
        "    print(\"predict: {0} ({1},{2},{3})\".format(answer, start, end, score))\n",
        "    print(\"service: \" + modify_answer(answer))"
      ],
      "execution_count": 27,
      "outputs": [
        {
          "output_type": "stream",
          "name": "stdout",
          "text": [
            "query: 훈민정음을 창제한 이유\n",
            "question: 훈민정음을 창제한 이유\n",
            "predict: 애민 정신을 (320,326,0.6614944338798523)\n",
            "service: 애민정신이라네.\n"
          ]
        }
      ]
    },
    {
      "cell_type": "code",
      "metadata": {
        "id": "D7-BROvQyDPF"
      },
      "source": [
        "def full_test():\n",
        "    df = pd.read_csv('dataset_test.csv')\n",
        "    \n",
        "    for idx, row in df.iterrows():\n",
        "        it_context = row['Context (지문)']\n",
        "        it_question = row['Q1 (질문1)']\n",
        "        it_ans = row['Ans (답변)']\n",
        "\n",
        "        answer, start, end, score = get_answer(it_context, it_question)\n",
        "\n",
        "        print(\"[\" + str(idx) + \"]\")\n",
        "        print(\"question: \" + it_question)\n",
        "        print(\"real: \" + it_ans)\n",
        "        print(\"predict: {0} ({1},{2},{3})\".format(answer, start, end, score))\n",
        "        print(\"service: \" + modify_answer(answer))"
      ],
      "execution_count": 28,
      "outputs": []
    }
  ]
}